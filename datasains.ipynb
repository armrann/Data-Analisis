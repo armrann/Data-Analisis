{
 "cells": [
  {
   "cell_type": "code",
   "execution_count": 1,
   "id": "aaf8759a",
   "metadata": {},
   "outputs": [],
   "source": [
    "import pandas as pd"
   ]
  },
  {
   "cell_type": "code",
   "execution_count": 7,
   "id": "3cfb259a",
   "metadata": {},
   "outputs": [],
   "source": [
    "df = pd.read_csv(\"C:/Users/ilham/Pictures/datads.csv\")"
   ]
  },
  {
   "cell_type": "code",
   "execution_count": 8,
   "id": "af9b04f4",
   "metadata": {},
   "outputs": [
    {
     "data": {
      "text/html": [
       "<div>\n",
       "<style scoped>\n",
       "    .dataframe tbody tr th:only-of-type {\n",
       "        vertical-align: middle;\n",
       "    }\n",
       "\n",
       "    .dataframe tbody tr th {\n",
       "        vertical-align: top;\n",
       "    }\n",
       "\n",
       "    .dataframe thead th {\n",
       "        text-align: right;\n",
       "    }\n",
       "</style>\n",
       "<table border=\"1\" class=\"dataframe\">\n",
       "  <thead>\n",
       "    <tr style=\"text-align: right;\">\n",
       "      <th></th>\n",
       "      <th>Jenis</th>\n",
       "      <th>Golongan</th>\n",
       "      <th>PMK Lama (Rp)</th>\n",
       "      <th>PMK Baru (Rp)</th>\n",
       "      <th>Perubahan (%)</th>\n",
       "    </tr>\n",
       "  </thead>\n",
       "  <tbody>\n",
       "    <tr>\n",
       "      <th>0</th>\n",
       "      <td>Sigaret Kretek Mesin (SKM)</td>\n",
       "      <td>I</td>\n",
       "      <td>590.0</td>\n",
       "      <td>740.0</td>\n",
       "      <td>25.42</td>\n",
       "    </tr>\n",
       "    <tr>\n",
       "      <th>1</th>\n",
       "      <td>Sigaret Kretek Mesin (SKM)</td>\n",
       "      <td>II</td>\n",
       "      <td>385.0</td>\n",
       "      <td>470.0</td>\n",
       "      <td>22.80</td>\n",
       "    </tr>\n",
       "    <tr>\n",
       "      <th>2</th>\n",
       "      <td>Sigaret Kretek Mesin (SKM)</td>\n",
       "      <td>III</td>\n",
       "      <td>370.0</td>\n",
       "      <td>455.0</td>\n",
       "      <td>22.97</td>\n",
       "    </tr>\n",
       "    <tr>\n",
       "      <th>3</th>\n",
       "      <td>Sigaret Putih Mesin (SPM)</td>\n",
       "      <td>I</td>\n",
       "      <td>625.0</td>\n",
       "      <td>790.0</td>\n",
       "      <td>26.40</td>\n",
       "    </tr>\n",
       "    <tr>\n",
       "      <th>4</th>\n",
       "      <td>Sigaret Putih Mesin (SPM)</td>\n",
       "      <td>II</td>\n",
       "      <td>370.0</td>\n",
       "      <td>485.0</td>\n",
       "      <td>31.08</td>\n",
       "    </tr>\n",
       "  </tbody>\n",
       "</table>\n",
       "</div>"
      ],
      "text/plain": [
       "                        Jenis Golongan  PMK Lama (Rp)  PMK Baru (Rp)  \\\n",
       "0  Sigaret Kretek Mesin (SKM)        I          590.0          740.0   \n",
       "1  Sigaret Kretek Mesin (SKM)       II          385.0          470.0   \n",
       "2  Sigaret Kretek Mesin (SKM)      III          370.0          455.0   \n",
       "3   Sigaret Putih Mesin (SPM)        I          625.0          790.0   \n",
       "4   Sigaret Putih Mesin (SPM)       II          370.0          485.0   \n",
       "\n",
       "   Perubahan (%)  \n",
       "0          25.42  \n",
       "1          22.80  \n",
       "2          22.97  \n",
       "3          26.40  \n",
       "4          31.08  "
      ]
     },
     "execution_count": 8,
     "metadata": {},
     "output_type": "execute_result"
    }
   ],
   "source": [
    "df.head()"
   ]
  },
  {
   "cell_type": "code",
   "execution_count": 10,
   "id": "846c00d8",
   "metadata": {},
   "outputs": [
    {
     "data": {
      "text/plain": [
       "Jenis            Sigaret Kretek Mesin (SKM)\n",
       "Golongan                                 II\n",
       "PMK Lama (Rp)                           385\n",
       "PMK Baru (Rp)                           470\n",
       "Perubahan (%)                          22.8\n",
       "Name: 1, dtype: object"
      ]
     },
     "execution_count": 10,
     "metadata": {},
     "output_type": "execute_result"
    }
   ],
   "source": [
    "df.loc[1]"
   ]
  },
  {
   "cell_type": "code",
   "execution_count": 11,
   "id": "722131b5",
   "metadata": {},
   "outputs": [
    {
     "data": {
      "text/plain": [
       "Jenis            Sigaret Kretek Mesin (SKM)\n",
       "Golongan                                III\n",
       "PMK Lama (Rp)                           370\n",
       "PMK Baru (Rp)                           455\n",
       "Perubahan (%)                         22.97\n",
       "Name: 2, dtype: object"
      ]
     },
     "execution_count": 11,
     "metadata": {},
     "output_type": "execute_result"
    }
   ],
   "source": [
    "df.loc[2]"
   ]
  },
  {
   "cell_type": "code",
   "execution_count": 12,
   "id": "83e4c617",
   "metadata": {},
   "outputs": [
    {
     "data": {
      "text/plain": [
       "Jenis            Sigaret Putih Mesin (SPM)\n",
       "Golongan                                II\n",
       "PMK Lama (Rp)                          370\n",
       "PMK Baru (Rp)                          485\n",
       "Perubahan (%)                        31.08\n",
       "Name: 4, dtype: object"
      ]
     },
     "execution_count": 12,
     "metadata": {},
     "output_type": "execute_result"
    }
   ],
   "source": [
    "df.loc[4]"
   ]
  },
  {
   "cell_type": "code",
   "execution_count": null,
   "id": "bea53681",
   "metadata": {},
   "outputs": [],
   "source": []
  }
 ],
 "metadata": {
  "kernelspec": {
   "display_name": "Python 3 (ipykernel)",
   "language": "python",
   "name": "python3"
  },
  "language_info": {
   "codemirror_mode": {
    "name": "ipython",
    "version": 3
   },
   "file_extension": ".py",
   "mimetype": "text/x-python",
   "name": "python",
   "nbconvert_exporter": "python",
   "pygments_lexer": "ipython3",
   "version": "3.9.0"
  }
 },
 "nbformat": 4,
 "nbformat_minor": 5
}
